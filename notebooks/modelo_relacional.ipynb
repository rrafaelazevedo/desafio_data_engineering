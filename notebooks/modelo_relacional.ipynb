{
  "nbformat": 4,
  "nbformat_minor": 0,
  "metadata": {
    "colab": {
      "provenance": []
    },
    "kernelspec": {
      "name": "python3",
      "display_name": "Python 3"
    },
    "language_info": {
      "name": "python"
    }
  },
  "cells": [
    {
      "cell_type": "markdown",
      "source": [
        "**Modelo entidade relacionamento** -> `(MER)`"
      ],
      "metadata": {
        "id": "PJW_XYiIZnPY"
      }
    },
    {
      "cell_type": "code",
      "execution_count": null,
      "metadata": {
        "id": "Cj0R1f8fYkqh"
      },
      "outputs": [],
      "source": [
        "modelo_relacional = {\n",
        "    \"empresas\": {\n",
        "        \"pk\": [\"id_empresa\"],\n",
        "        \"atributos\": [\"nome_fantasia\", \"cnpj\", \"data_fundacao\"],\n",
        "        \"relacionamentos\": []\n",
        "    },\n",
        "    \"clientes\": {\n",
        "        \"pk\": [\"id_cliente\"],\n",
        "        \"atributos\": [\"nome\", \"email\", \"cpf\"],\n",
        "        \"relacionamentos\": []\n",
        "    },\n",
        "    \"receitas\": {\n",
        "        \"pk\": [\"id_receita\"],\n",
        "        \"atributos\": [\"categoria\", \"valor\", \"data\", \"descricao\"],\n",
        "        \"relacionamentos\": [\n",
        "            {\"fk\": \"id_empresa\", \"referencia\": \"empresas(id_empresa)\"},\n",
        "            {\"fk\": \"id_cliente\", \"referencia\": \"clientes(id_cliente)\"}\n",
        "        ]\n",
        "    },\n",
        "    \"despesas\": {\n",
        "        \"pk\": [\"id_despesa\"],\n",
        "        \"atributos\": [\"categoria\", \"valor\", \"data\", \"descricao\"],\n",
        "        \"relacionamentos\": [\n",
        "            {\"fk\": \"id_empresa\", \"referencia\": \"empresas(id_empresa)\"},\n",
        "            {\"fk\": \"id_cliente\", \"referencia\": \"clientes(id_cliente)\"}\n",
        "        ]\n",
        "    },\n",
        "    \"orcamentos\": {\n",
        "        \"pk\": [\"id_orcamento\"],\n",
        "        \"atributos\": [\"ano\", \"mes\", \"tipo\", \"valor_estimado\"],\n",
        "        \"relacionamentos\": [\n",
        "            {\"fk\": \"id_empresa\", \"referencia\": \"empresas(id_empresa)\"}\n",
        "        ]\n",
        "    },\n",
        "    \"transferencias\": {\n",
        "        \"pk\": [\"id_transferencia\"],\n",
        "        \"atributos\": [\"tipo\", \"valor\", \"data\", \"descricao\"],\n",
        "        \"relacionamentos\": [\n",
        "            {\"fk\": \"id_empresa_origem\", \"referencia\": \"empresas(id_empresa)\"},\n",
        "            {\"fk\": \"id_empresa_destino\", \"referencia\": \"empresas(id_empresa)\"}\n",
        "        ]\n",
        "    }\n",
        "}\n",
        "\n",
        "# exibir modelo relacional\n",
        "for tabela, dados in modelo_relacional.items():\n",
        "    print(f\"\\nTabela: {tabela}\")\n",
        "    print(f\"  PK: {', '.join(dados['pk'])}\")\n",
        "    print(f\"  Atributos: {', '.join(dados['atributos'])}\")\n",
        "    if dados[\"relacionamentos\"]:\n",
        "        print(\"  Relacionamentos:\")\n",
        "        for rel in dados[\"relacionamentos\"]:\n",
        "            print(f\"    FK {rel['fk']} → {rel['referencia']}\")\n"
      ]
    },
    {
      "cell_type": "code",
      "source": [],
      "metadata": {
        "id": "XRyjhLpgZp6o"
      },
      "execution_count": null,
      "outputs": []
    }
  ]
}